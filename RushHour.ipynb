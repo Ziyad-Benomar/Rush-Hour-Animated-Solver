{
  "cells": [
    {
      "cell_type": "code",
      "execution_count": 1,
      "metadata": {
        "id": "U78fwbhZ26xA"
      },
      "outputs": [],
      "source": [
        "import numpy as np\n",
        "import matplotlib.pyplot as plt\n",
        "import cv2\n",
        "import random\n",
        "import time\n",
        "from functools import cmp_to_key"
      ]
    },
    {
      "cell_type": "code",
      "execution_count": 2,
      "metadata": {
        "id": "WckrFTdn-gaX"
      },
      "outputs": [],
      "source": [
        "# Constants\n",
        "HORIZONTAL = 0\n",
        "VERTICAL = 1\n",
        "red = (220,0,0)\n",
        "blue = (0,120,170)\n",
        "\n",
        "class Car:\n",
        "  next_id = 2\n",
        "  @staticmethod\n",
        "  def reset_id_generator():\n",
        "    Car.next_id = 2\n",
        "  \n",
        "  def __init__(self, column:int, row:int, orientation:int, size:int, is_red=False) -> None:\n",
        "    self.color = blue\n",
        "    if is_red:\n",
        "      self.id = 1\n",
        "      self.color = red\n",
        "    else:\n",
        "      self.id = Car.next_id\n",
        "      Car.next_id += 1\n",
        "    self.column = column\n",
        "    self.row = row\n",
        "    self.orientation = orientation\n",
        "    self.size = size\n",
        "\n",
        "  def is_horizontal(self):\n",
        "    return self.orientation == HORIZONTAL \n",
        "  \n",
        "  def occupied_cells(self):\n",
        "    cells = []\n",
        "    if self.is_horizontal():\n",
        "      for dx in range(self.size):\n",
        "        cells.append((self.column + dx, self.row))\n",
        "    else:\n",
        "      for dy in range(self.size):\n",
        "        cells.append((self.column, self.row + dy))\n",
        "    return cells\n",
        "  \n",
        "  # each car has a constant position that never changes and a variable position\n",
        "  # for horizontal cars: the constant position is the row\n",
        "  #                      the variable one is the column\n",
        "  # for vertical cars it is the inverse\n",
        "  def get_variable_position(self):\n",
        "    if self.is_horizontal():\n",
        "      return self.column\n",
        "    return self.row\n",
        "  \n",
        "  def get_constant_position(self):\n",
        "    if self.is_horizontal():\n",
        "      return self.row\n",
        "    return self.column\n",
        "\n",
        "  def possible_moves(self, parking):\n",
        "    moves = []\n",
        "    x = self.column\n",
        "    y = self.row\n",
        "    if self.is_horizontal():\n",
        "      dx = -1\n",
        "      while parking.is_free(x+dx,y) :\n",
        "        moves.append(dx)\n",
        "        dx -= 1\n",
        "      dx = 1\n",
        "      while parking.is_free(x + self.size-1 + dx,y):\n",
        "        moves.append(dx)\n",
        "        dx += 1\n",
        "    else:\n",
        "      dy = -1\n",
        "      while parking.is_free(x,y+dy) :\n",
        "        moves.append(dy)\n",
        "        dy -= 1\n",
        "      dy = 1\n",
        "      while parking.is_free(x,y + self.size-1 + dy):\n",
        "        moves.append(dy)\n",
        "        dy += 1\n",
        "    return moves\n",
        "  \n",
        "  def move(self, dxy):\n",
        "    if self.is_horizontal():\n",
        "      self.column += dxy\n",
        "    else:\n",
        "      self.row += dxy\n",
        "\n",
        "\n",
        "\n",
        "class Parking:\n",
        "  def __init__(self, width:int, height:int) -> None:\n",
        "    self.width = width\n",
        "    self.height = height\n",
        "    self.board = np.zeros((width, height), dtype=int)\n",
        "  \n",
        "  def put_car(self, car:Car):\n",
        "    car_cells = car.occupied_cells()\n",
        "    # check that the car emplacement is free\n",
        "    for (x,y) in car_cells:\n",
        "      if not self.is_free(x,y):\n",
        "        return False\n",
        "    # put the car in parking\n",
        "    for (x,y) in car_cells:\n",
        "      self.board[x,y] = car.id\n",
        "    return True\n",
        "  \n",
        "  def car_on_cell(self,x,y):\n",
        "    if (x<0 or x>=self.width):\n",
        "      return -1\n",
        "    if (y<0 or y>=self.height):\n",
        "      return -1\n",
        "    return self.board[x,y]\n",
        "  \n",
        "  def is_free(self,x,y):\n",
        "    return (self.car_on_cell(x,y) == 0)\n",
        "  \n",
        "  def remove(self, car:Car):\n",
        "    car_cells = car.occupied_cells()\n",
        "    for (x,y) in car_cells:\n",
        "      self.board[x,y] = 0\n",
        "\n"
      ]
    },
    {
      "cell_type": "code",
      "execution_count": 3,
      "metadata": {
        "id": "lDmbz8VC-_z-"
      },
      "outputs": [],
      "source": [
        "class RushHour:\n",
        "  def __init__(self, parking) -> None:\n",
        "    self.parking = parking\n",
        "    self.cars = {}\n",
        "    Car.reset_id_generator()\n",
        "    self.car_ids = [] # need to keep a fixed order of the ids for \"int_repr\"\n",
        "    # the maximum possible position for a car (assuming it has a size >1) is: \n",
        "    self.max_pos = max(self.parking.width, self.parking.height) - 2\n",
        "  \n",
        "  def int_repr(self):\n",
        "    # the integer representation is the positions of the cars written in base max_pos\n",
        "    state = 0\n",
        "    power = 1\n",
        "    for id in self.car_ids:\n",
        "      state += power * self.cars[id].get_variable_position()\n",
        "      power *= self.max_pos\n",
        "    return state\n",
        "  \n",
        "  def add_car(self, car:Car):\n",
        "    if self.parking.put_car(car):\n",
        "      self.cars[car.id] = car\n",
        "      self.car_ids.append(car.id)\n",
        "      return True\n",
        "    print(f\"car {car.id} could not be added because position is invalid or taken\")\n",
        "    return False\n",
        "\n",
        "  def possible_moves(self, leave=-1):\n",
        "    moves = []\n",
        "    for car_id in self.cars:\n",
        "      if car_id != leave: \n",
        "        car_moves = self.cars[car_id].possible_moves(self.parking)\n",
        "        for dxy in car_moves:\n",
        "          moves.append((car_id, dxy))\n",
        "    return moves\n",
        "\n",
        "  def move_car(self, move):\n",
        "    \"\"\"\n",
        "    - move must be an available move for the car\n",
        "    \"\"\"\n",
        "    car_id, dxy = move\n",
        "    car = self.cars[car_id]\n",
        "    # move the car\n",
        "    self.parking.remove(car)\n",
        "    car.move(dxy)\n",
        "    # if the parking emplacement is not free, move the car back to its first place\n",
        "    if not self.parking.put_car(car):\n",
        "      car.move(-dxy)\n",
        "      self.parking.put_car(car)\n",
        "      return False\n",
        "    return True\n",
        "  \n",
        "  def cancel_move_car(self, move):\n",
        "    car_id, dxy = move\n",
        "    self.move_car((car_id, -dxy))\n",
        "\n",
        "  def won(self):\n",
        "    \"\"\"\n",
        "    - the game is won if there are no obstacles between the red\n",
        "      car and the last cell of its row\n",
        "    \"\"\"\n",
        "    red_car = self.cars[1]\n",
        "    for column in range(red_car.column + red_car.size, self.parking.width):\n",
        "      if not self.parking.is_free(column, red_car.row):\n",
        "        return False\n",
        "    return True\n",
        "  \n",
        "  def dist_to_exit(self):\n",
        "    red_car = self.cars[1]\n",
        "    return self.parking.width - (red_car.column + red_car.size);"
      ]
    },
    {
      "cell_type": "code",
      "execution_count": 4,
      "metadata": {
        "id": "CfyTs3_JXo_w"
      },
      "outputs": [],
      "source": [
        "class Drawing:\n",
        "  CELL_SIZE = 50\n",
        "  MARGIN = CELL_SIZE // 8\n",
        "\n",
        "  @staticmethod\n",
        "  def show_grid(parking, img, color=(150,150,150)):\n",
        "    xmin, ymin = 0, 0\n",
        "    xmax = parking.width*Drawing.CELL_SIZE\n",
        "    ymax = parking.height*Drawing.CELL_SIZE\n",
        "    for row in range(1, parking.height):\n",
        "      y = row * Drawing.CELL_SIZE\n",
        "      cv2.line(img, (xmin,y), (xmax,y), color, 1)\n",
        "    for column in range(1, parking.width):\n",
        "      x = column * Drawing.CELL_SIZE\n",
        "      cv2.line(img, (x,ymin), (x,ymax), color, 1)\n",
        "\n",
        "  @staticmethod\n",
        "  def show_car(car, img):\n",
        "    CELL_SIZE = Drawing.CELL_SIZE\n",
        "    MARGIN = Drawing.MARGIN\n",
        "    if car.is_horizontal():\n",
        "      xmin = car.column * CELL_SIZE + MARGIN\n",
        "      ymin = car.row * CELL_SIZE + MARGIN\n",
        "      xmax = (car.column + car.size) * CELL_SIZE - MARGIN\n",
        "      ymax = (car.row + 1) * CELL_SIZE - MARGIN\n",
        "    else:\n",
        "      xmin = car.column * CELL_SIZE + MARGIN\n",
        "      ymin = car.row * CELL_SIZE + MARGIN\n",
        "      xmax = (car.column + 1) * CELL_SIZE - MARGIN\n",
        "      ymax = (car.row + car.size) * CELL_SIZE - MARGIN\n",
        "    cv2.rectangle(img, (xmin,ymin), (xmax,ymax), car.color, (-1))\n",
        "    cv2.rectangle(img, (xmin,ymin), (xmax,ymax), (0,0,0), (2))\n",
        "  \n",
        "  @staticmethod\n",
        "  def show_parking(rush_hour):\n",
        "    parking = rush_hour.parking\n",
        "    img_height = Drawing.CELL_SIZE * parking.height\n",
        "    img_width = Drawing.CELL_SIZE * parking.width\n",
        "    img = np.zeros((img_height, img_width, 3), dtype=\"uint8\")\n",
        "    img[:,:,:] = (200,200,170)\n",
        "\n",
        "    Drawing.show_grid(parking, img)\n",
        "    for car in rush_hour.cars.values():\n",
        "      Drawing.show_car(car, img)\n",
        "    \n",
        "    return img\n",
        "\n",
        "def imshow(img):\n",
        "  plt.figure(figsize=(6,6))\n",
        "  plt.axis('off')\n",
        "  plt.imshow(img) \n",
        "  plt.show() "
      ]
    },
    {
      "cell_type": "markdown",
      "metadata": {
        "id": "0EZ3DuHTXKkW"
      },
      "source": [
        "# **Solver BFS**"
      ]
    },
    {
      "cell_type": "code",
      "execution_count": 5,
      "metadata": {
        "id": "s7kC7iISXvVL"
      },
      "outputs": [],
      "source": [
        "class Solver_BFS:\n",
        "  @staticmethod\n",
        "  def solve(puzzle):\n",
        "    EXECUTE = 1\n",
        "    EXPLORE = 0\n",
        "    CANCEL = -1\n",
        "    queue = []\n",
        "    winning_moves = [] # stack\n",
        "    possible_moves = puzzle.possible_moves()\n",
        "    for move in possible_moves:\n",
        "      queue.append((move, EXPLORE))\n",
        "    visited = []\n",
        "    depth = 1\n",
        "    while len(queue) > 0:\n",
        "      move, action = queue.pop(0)\n",
        "      if action == EXPLORE:\n",
        "        puzzle.move_car(move)\n",
        "        if puzzle.won():\n",
        "          winning_moves.append(move)\n",
        "          break\n",
        "        repr = puzzle.int_repr()\n",
        "        if repr not in visited:\n",
        "          queue.append((move, EXECUTE))\n",
        "          visited.append(repr)\n",
        "          next_moves = puzzle.possible_moves()\n",
        "          for next_move in next_moves:\n",
        "            queue.append((next_move, EXPLORE))\n",
        "          queue.append((move, CANCEL))\n",
        "        puzzle.cancel_move_car(move)\n",
        "      elif action == EXECUTE:\n",
        "        depth += 1\n",
        "        puzzle.move_car(move)\n",
        "        queue.append((move, EXECUTE))\n",
        "        winning_moves.append(move)\n",
        "      else:\n",
        "        depth -= 1\n",
        "        puzzle.cancel_move_car(move)\n",
        "        queue.append((move, CANCEL))\n",
        "        winning_moves.pop()\n",
        "    for move in winning_moves[::-1]:\n",
        "      puzzle.cancel_move_car(move)\n",
        "    winning_moves.append((1,puzzle.dist_to_exit()))\n",
        "    return winning_moves"
      ]
    },
    {
      "cell_type": "markdown",
      "metadata": {
        "id": "pHJdX1diVcHc"
      },
      "source": [
        "# **Solver DFS**"
      ]
    },
    {
      "cell_type": "code",
      "execution_count": 6,
      "metadata": {
        "id": "C1a4OX9PVbB_"
      },
      "outputs": [],
      "source": [
        "class Solver_DFS:\n",
        "  @staticmethod\n",
        "  def solve_backtrack(puzzle, visited, winning_moves, leave=-1, max_moves=np.inf): \n",
        "    if puzzle.won():\n",
        "      return True\n",
        "    if max_moves == 0:\n",
        "      return False\n",
        "    repr = puzzle.int_repr()\n",
        "    if repr in visited:\n",
        "      return False\n",
        "    visited.append(repr)\n",
        "    moves = puzzle.possible_moves(leave=leave)\n",
        "    random.shuffle(moves)\n",
        "    for move in moves:\n",
        "      puzzle.move_car(move)\n",
        "      is_solved =  Solver_DFS.solve_backtrack(\n",
        "      \t  puzzle,\n",
        "          visited,\n",
        "          winning_moves,\n",
        "          leave=move[0],\n",
        "          max_moves=max_moves-1)\n",
        "      puzzle.cancel_move_car(move)\n",
        "      if is_solved:\n",
        "        winning_moves.append(move)\n",
        "        return True\n",
        "    return False\n",
        "  \n",
        "  @staticmethod\n",
        "  def solve(puzzle, max_moves=np.inf):\n",
        "    visited = []\n",
        "    winning_moves = []\n",
        "    solved = Solver_DFS.solve_backtrack(puzzle, visited, winning_moves, max_moves)\n",
        "    winning_moves.reverse()\n",
        "    winning_moves.append((1,puzzle.dist_to_exit()))\n",
        "    return solved, winning_moves\n",
        "\n",
        "  @staticmethod\n",
        "  def solve_best(puzzle, iters:int):\n",
        "    best_moves = []\n",
        "    min_moves = np.inf\n",
        "    for n in range(iters):\n",
        "      solved, winning_moves = Solver_DFS.solve(puzzle, max_moves=max(200, min_moves-1))\n",
        "      if solved and len(winning_moves) < min_moves:\n",
        "        best_moves = winning_moves[:]\n",
        "        min_moves = len(winning_moves)\n",
        "    return best_moves"
      ]
    },
    {
      "cell_type": "markdown",
      "metadata": {
        "id": "lWBdEzLUXVBP"
      },
      "source": [
        "## Tests"
      ]
    },
    {
      "cell_type": "code",
      "execution_count": 15,
      "metadata": {
        "colab": {
          "base_uri": "https://localhost:8080/",
          "height": 357
        },
        "id": "bx8vANZmXUMg",
        "outputId": "5ed28239-c8b9-41a5-80cb-114f7dec615d"
      },
      "outputs": [
        {
          "data": {
            "image/png": "[encoded data removed]",
            "text/plain": [
              "<Figure size 432x432 with 1 Axes>"
            ]
          },
          "metadata": {
            "needs_background": "light"
          },
          "output_type": "display_data"
        }
      ],
      "source": [
        "# Test Config easy\n",
        "parking = Parking(6,6)\n",
        "easy = RushHour(parking)\n",
        "\n",
        "easy.add_car(Car(0,3,HORIZONTAL, 2, is_red=True))\n",
        "easy.add_car(Car(2,0,HORIZONTAL,2))\n",
        "easy.add_car(Car(3,2,HORIZONTAL,2))\n",
        "easy.add_car(Car(4,4,HORIZONTAL,2))\n",
        "easy.add_car(Car(4,0,VERTICAL,2))\n",
        "easy.add_car(Car(1,0,VERTICAL,2))\n",
        "easy.add_car(Car(3,3,VERTICAL, 3))\n",
        "easy.add_car(Car(2,2,VERTICAL, 2))\n",
        "easy.add_car(Car(0,4,VERTICAL, 2))\n",
        "\n",
        "img = Drawing.show_parking(easy)\n",
        "imshow(img)"
      ]
    },
    {
      "cell_type": "code",
      "execution_count": 16,
      "metadata": {
        "colab": {
          "base_uri": "https://localhost:8080/"
        },
        "id": "s4UR-vCkqTzL",
        "outputId": "13d6e43e-ef51-4ad5-fd15-0e035519d699"
      },
      "outputs": [
        {
          "name": "stdout",
          "output_type": "stream",
          "text": [
            "number of moves for solving the puzzle with Solver_BFS :  6\n",
            "number of moves for solving the puzzle with Solver_DFS :  6\n"
          ]
        }
      ],
      "source": [
        "moves_BFS = Solver_BFS.solve(easy)\n",
        "moves_DFS = Solver_DFS.solve_best(easy, 20)\n",
        "\n",
        "print(\"number of moves for solving the puzzle with Solver_BFS : \", len(moves_BFS))\n",
        "print(\"number of moves for solving the puzzle with Solver_DFS : \", len(moves_DFS))"
      ]
    },
    {
      "cell_type": "code",
      "execution_count": 17,
      "metadata": {
        "colab": {
          "base_uri": "https://localhost:8080/",
          "height": 1000
        },
        "id": "bHAjGpYbqx8B",
        "outputId": "d5970ec2-6247-4687-b040-5e8de8964063"
      },
      "outputs": [
        {
          "data": {
            "image/png": "[encoded data removed]",
            "text/plain": [
              "<Figure size 432x432 with 1 Axes>"
            ]
          },
          "metadata": {
            "needs_background": "light"
          },
          "output_type": "display_data"
        },
        {
          "name": "stdout",
          "output_type": "stream",
          "text": [
            "move num 1: (3, 1)\n",
            "game won ? False\n"
          ]
        },
        {
          "data": {
            "image/png": "[encoded data removed]",
            "text/plain": [
              "<Figure size 432x432 with 1 Axes>"
            ]
          },
          "metadata": {
            "needs_background": "light"
          },
          "output_type": "display_data"
        },
        {
          "name": "stdout",
          "output_type": "stream",
          "text": [
            "move num 2: (6, 1)\n",
            "game won ? False\n"
          ]
        },
        {
          "data": {
            "image/png": "[encoded data removed]",
            "text/plain": [
              "<Figure size 432x432 with 1 Axes>"
            ]
          },
          "metadata": {
            "needs_background": "light"
          },
          "output_type": "display_data"
        },
        {
          "name": "stdout",
          "output_type": "stream",
          "text": [
            "move num 3: (2, -1)\n",
            "game won ? False\n"
          ]
        },
        {
          "data": {
            "image/png": "[encoded data removed]",
            "text/plain": [
              "<Figure size 432x432 with 1 Axes>"
            ]
          },
          "metadata": {
            "needs_background": "light"
          },
          "output_type": "display_data"
        },
        {
          "name": "stdout",
          "output_type": "stream",
          "text": [
            "move num 4: (7, -3)\n",
            "game won ? False\n"
          ]
        },
        {
          "data": {
            "image/png": "[encoded data removed]",
            "text/plain": [
              "<Figure size 432x432 with 1 Axes>"
            ]
          },
          "metadata": {
            "needs_background": "light"
          },
          "output_type": "display_data"
        },
        {
          "name": "stdout",
          "output_type": "stream",
          "text": [
            "move num 5: (8, -1)\n",
            "game won ? True\n"
          ]
        },
        {
          "data": {
            "image/png": "[encoded data removed]",
            "text/plain": [
              "<Figure size 432x432 with 1 Axes>"
            ]
          },
          "metadata": {
            "needs_background": "light"
          },
          "output_type": "display_data"
        },
        {
          "name": "stdout",
          "output_type": "stream",
          "text": [
            "move num 6: (1, 4)\n",
            "game won ? True\n"
          ]
        },
        {
          "data": {
            "image/png": "[encoded data removed]",
            "text/plain": [
              "<Figure size 432x432 with 1 Axes>"
            ]
          },
          "metadata": {
            "needs_background": "light"
          },
          "output_type": "display_data"
        }
      ],
      "source": [
        "img = Drawing.show_parking(easy)\n",
        "imshow(img)\n",
        "\n",
        "for i in range(len(moves_BFS)):\n",
        "  move = moves_BFS[i]\n",
        "  easy.move_car(move)\n",
        "  print(f\"move num {i+1}: {move}\")\n",
        "  print(f\"game won ? {easy.won()}\")\n",
        "  img = Drawing.show_parking(easy)\n",
        "  imshow(img)"
      ]
    },
    {
      "cell_type": "code",
      "execution_count": 10,
      "metadata": {
        "colab": {
          "base_uri": "https://localhost:8080/",
          "height": 357
        },
        "id": "u8Y64a_rVsVV",
        "outputId": "1ff2aeb8-efc1-43cd-a391-99d7b858b951"
      },
      "outputs": [
        {
          "data": {
            "image/png": "[encoded data removed]",
            "text/plain": [
              "<Figure size 432x432 with 1 Axes>"
            ]
          },
          "metadata": {
            "needs_background": "light"
          },
          "output_type": "display_data"
        }
      ],
      "source": [
        "# Test Config hard\n",
        "parking = Parking(6,6)\n",
        "hard = RushHour(parking)\n",
        "\n",
        "hard.add_car(Car(1,2,HORIZONTAL, 2, is_red=True))\n",
        "hard.add_car(Car(3,0,HORIZONTAL,3))\n",
        "hard.add_car(Car(4,1,HORIZONTAL,2))\n",
        "hard.add_car(Car(4,3,HORIZONTAL,2))\n",
        "hard.add_car(Car(2,4,HORIZONTAL,2))\n",
        "hard.add_car(Car(1,5,HORIZONTAL,3))\n",
        "hard.add_car(Car(2,0,VERTICAL,2))\n",
        "hard.add_car(Car(3,1,VERTICAL,3))\n",
        "hard.add_car(Car(0,1,VERTICAL, 2))\n",
        "hard.add_car(Car(0,4,VERTICAL, 2))\n",
        "hard.add_car(Car(1,3,VERTICAL, 2))\n",
        "hard.add_car(Car(5,4,VERTICAL, 2))\n",
        "\n",
        "img = Drawing.show_parking(hard)\n",
        "imshow(img)"
      ]
    },
    {
      "cell_type": "code",
      "execution_count": 11,
      "metadata": {
        "colab": {
          "base_uri": "https://localhost:8080/"
        },
        "id": "mV5z0S4eXDEx",
        "outputId": "00e3a48a-b2a7-4379-d5d1-c103f9750369"
      },
      "outputs": [
        {
          "name": "stdout",
          "output_type": "stream",
          "text": [
            "number of moves for solving the puzzle with Solver_BFS :  26\n"
          ]
        }
      ],
      "source": [
        "moves_BFS = Solver_BFS.solve(hard)\n",
        "\n",
        "print(\"number of moves for solving the puzzle with Solver_BFS : \", len(moves_BFS))"
      ]
    },
    {
      "cell_type": "code",
      "execution_count": 12,
      "metadata": {
        "colab": {
          "base_uri": "https://localhost:8080/",
          "height": 357
        },
        "id": "u0YIjMFBl1Tf",
        "outputId": "255e84b2-bde1-4ca5-b787-4b8190290164"
      },
      "outputs": [
        {
          "data": {
            "image/png": "[encoded data removed]",
            "text/plain": [
              "<Figure size 432x432 with 1 Axes>"
            ]
          },
          "metadata": {
            "needs_background": "light"
          },
          "output_type": "display_data"
        }
      ],
      "source": [
        "# Test Config hardest\n",
        "parking = Parking(6,6)\n",
        "hardest = RushHour(parking)\n",
        "\n",
        "hardest.add_car(Car(3,2,HORIZONTAL, 2, is_red=True))\n",
        "hardest.add_car(Car(1,0,HORIZONTAL,2))\n",
        "hardest.add_car(Car(0,3,HORIZONTAL,3))\n",
        "hardest.add_car(Car(0,5,HORIZONTAL,2))\n",
        "hardest.add_car(Car(3,5,HORIZONTAL,2))\n",
        "hardest.add_car(Car(4,4,HORIZONTAL,2))\n",
        "hardest.add_car(Car(0,0,VERTICAL,3))\n",
        "hardest.add_car(Car(1,1,VERTICAL,2))\n",
        "hardest.add_car(Car(2,1,VERTICAL,2))\n",
        "hardest.add_car(Car(4,0,VERTICAL,2))\n",
        "hardest.add_car(Car(3,3,VERTICAL,2))\n",
        "hardest.add_car(Car(2,4,VERTICAL,2))\n",
        "hardest.add_car(Car(5,1,VERTICAL,3))\n",
        "\n",
        "img = Drawing.show_parking(hardest)\n",
        "imshow(img)"
      ]
    },
    {
      "cell_type": "code",
      "execution_count": 13,
      "metadata": {
        "colab": {
          "base_uri": "https://localhost:8080/"
        },
        "id": "c-91yPLIYNIa",
        "outputId": "05b52484-a781-412f-b528-3f27b3815e3f"
      },
      "outputs": [
        {
          "name": "stdout",
          "output_type": "stream",
          "text": [
            "number of moves for solving the puzzle with Solver_BFS :  51\n"
          ]
        }
      ],
      "source": [
        "moves_BFS = Solver_BFS.solve(hardest)\n",
        "\n",
        "print(\"number of moves for solving the puzzle with Solver_BFS : \", len(moves_BFS))"
      ]
    }
  ],
  "metadata": {
    "colab": {
      "collapsed_sections": [],
      "provenance": []
    },
    "kernelspec": {
      "display_name": "Python 3.8.3 ('base')",
      "language": "python",
      "name": "python3"
    },
    "language_info": {
      "codemirror_mode": {
        "name": "ipython",
        "version": 3
      },
      "file_extension": ".py",
      "mimetype": "text/x-python",
      "name": "python",
      "nbconvert_exporter": "python",
      "pygments_lexer": "ipython3",
      "version": "3.8.3"
    },
    "vscode": {
      "interpreter": {
        "hash": "e987e41af8e2d571e9d5552d0785b64b3544a288c0bac11510e379ae00bbea3c"
      }
    }
  },
  "nbformat": 4,
  "nbformat_minor": 0
}
